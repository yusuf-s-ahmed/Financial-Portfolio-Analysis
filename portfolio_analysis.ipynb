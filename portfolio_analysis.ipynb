{
  "cells": [
    {
      "cell_type": "markdown",
      "metadata": {
        "id": "2utc1Sr7PQaI"
      },
      "source": [
        "# Analysing a portfolio of assets based in UK energy and financial markets with investment recommendations\n",
        "\n",
        "This project evaluates a diversified investment portfolio consisting of UK energy and financial stocks (BP, Shell, HSBC, Barclays), ETFs (FTSE 100, S&P 500), and UK 10-year government bonds. Historical price data and macroeconomic indicators, including GDP, commodity prices were collected, cleaned, and queried using SQL for filtering."
      ]
    },
    {
      "cell_type": "markdown",
      "metadata": {
        "id": "wdsX19iaPKU0"
      },
      "source": [
        "### Package Imports"
      ]
    },
    {
      "cell_type": "code",
      "execution_count": 1,
      "metadata": {
        "id": "7GT5SafBjCHP"
      },
      "outputs": [],
      "source": [
        "from dotenv import load_dotenv\n",
        "import yfinance as yf\n",
        "import pandas as pd\n",
        "from fredapi import Fred\n",
        "import pandasql as ps\n",
        "from pandasql import sqldf\n",
        "import requests\n",
        "import statistics\n",
        "import math\n",
        "import numpy as np\n",
        "import os"
      ]
    },
    {
      "cell_type": "markdown",
      "metadata": {
        "id": "BaA2_dx4PIEk"
      },
      "source": [
        "### Data Extraction"
      ]
    },
    {
      "cell_type": "code",
      "execution_count": 4,
      "metadata": {
        "id": "Ml2Yh5DkkAnq"
      },
      "outputs": [],
      "source": [
        "# UK Energy Markeys\n",
        "bp = yf.Ticker('BP')\n",
        "shell = yf.Ticker('SHEL')\n",
        "\n",
        "# UK Financial Markets\n",
        "hsbc = yf.Ticker('HSBC')\n",
        "barclays = yf.Ticker('BARC.L')\n",
        "\n",
        "# UK / Global ETFs\n",
        "ftse_100 = yf.Ticker('^FTSE')\n",
        "s_and_p_500 = yf.Ticker('^GSPC')\n",
        "\n",
        "# UK 10 Year Gilt Government Bond\n",
        "load_dotenv()\n",
        "fred_api_key = os.getenv('FRED_API_KEY')\n",
        "fred = Fred(fred_api_key)\n",
        "\n",
        "bond_yield_data = fred.get_series('IRLTLT01GBM156N')\n",
        "\n",
        "# UK Unemployment\n",
        "uk_unemployment = fred.get_series('LRUNTTTTGBQ156S')\n",
        "\n",
        "# UK Consumer Price Index (CPI)\n",
        "uk_cpi = fred.get_series('GBRCPIALLMINMEI')\n",
        "\n",
        "# UK Gross Domestic Product (GDP)\n",
        "gdp_url = 'https://api.worldbank.org/v2/country/GBR/indicator/NY.GDP.MKTP.CD?format=json'\n",
        "gdp_response = requests.get(gdp_url).json()\n",
        "\n",
        "# Crude Oil Prices\n",
        "crude_oil = fred.get_series('GBRCPIALLMINMEI', observation_start='2015-01-01', observation_end='2025-01-01')"
      ]
    },
    {
      "cell_type": "markdown",
      "metadata": {
        "id": "PYKJ303kPGV9"
      },
      "source": [
        "### Data Processing"
      ]
    },
    {
      "cell_type": "code",
      "execution_count": 5,
      "metadata": {
        "id": "spdst_MQktIv"
      },
      "outputs": [],
      "source": [
        "# UK Energy Markeys\n",
        "bp_history = pd.DataFrame(bp.history(period='max'))\n",
        "shell_history = pd.DataFrame(shell.history(period='max'))\n",
        "\n",
        "# UK Financial Markets\n",
        "hsbc_history = pd.DataFrame(hsbc.history(period='max'))\n",
        "barclays_history = pd.DataFrame(barclays.history(period='max'))\n",
        "\n",
        "# UK / Global ETFs\n",
        "ftse_100_history = pd.DataFrame(ftse_100.history(period='max'))\n",
        "s_and_p_500_history = pd.DataFrame(s_and_p_500.history(period='max'))\n",
        "\n",
        "# UK 10 Year Gilt Government Bond\n",
        "government_bond = pd.DataFrame(bond_yield_data, columns=[\"Yield\"])\n",
        "government_bond.index.name = \"Date\"\n",
        "\n",
        "# UK Unemployment\n",
        "uk_unemployment = pd.DataFrame(uk_unemployment, columns=[\"Unemployment\"])\n",
        "uk_unemployment.index.name = \"Date\"\n",
        "\n",
        "# UK Consumer Price Index (CPI)\n",
        "uk_cpi = pd.DataFrame(uk_cpi, columns=[\"CPI\"])\n",
        "\n",
        "# UK Gross Domestic Product (GDP)\n",
        "gdp_data = gdp_response[1]\n",
        "gdp_data = pd.DataFrame(gdp_data)\n",
        "gdp_data = gdp_data[['date', 'value']].rename(columns={'date': 'Year', 'value': 'GDP_USD'})\n",
        "gdp_data['Year'] = gdp_data['Year'].astype(int)\n",
        "\n",
        "# Crude Oil Prices\n",
        "oil_data = pd.DataFrame(crude_oil)\n",
        "oil_data.index = pd.to_datetime(oil_data.index)\n",
        "oil_data.columns = ['WTI Crude Oil Price (USD/barrel)']"
      ]
    },
    {
      "cell_type": "markdown",
      "metadata": {
        "id": "7RThPP1I07ck"
      },
      "source": [
        "### Portfolio Calculations"
      ]
    },
    {
      "cell_type": "markdown",
      "metadata": {
        "id": "D3cZM-YY-MCU"
      },
      "source": [
        "\n",
        "\n",
        "*   Daily return per asset\n",
        "\n",
        "![image.png](data:image/png;base64,iVBORw0KGgoAAAANSUhEUgAAAowAAADVCAYAAADdLaHAAAAAAXNSR0IArs4c6QAAAARnQU1BAACxjwv8YQUAAAAJcEhZcwAADsMAAA7DAcdvqGQAABSlSURBVHhe7d19aFzXncbxp4uhUxI0pgZfsyFRX5C17cZWvFijxmxHm2KPa4jlBKTGEKMNdapALauQWt3dakXZGtU0lrMQOYY4VRO06tJklDaWAsYTpe7IxVlJJV7Ji2tZrJexCfUVBHJFDBMQeP+Y0cydW+loNDNS5uX7gYE55175j2ODH52X3/ncvXv37gkAAABYxl95OwAAAAA3AiMAAACMCIwAAAAwIjACAADAiMAIAAAAIwIjAAAAjAiMAAAAMCIwAgAAwIjACAAAACMCIwAAAIwIjAAAADAiMAIAAMCIwAgAAAAjAiMAAACMCIwAAAAwIjACAADAiMAIAAAAIwIjAAAAjAiMAAAAMCIwAgAAwIjACAAAACMCIwAAAIwIjAAAADAiMAIAAMCIwAgAAAAjAiMAAACMCIwAAAAwIjACAADAiMAIAAAAIwIjAAAAjAiMAAAAMCIwAgAAwIjACAAAACMCIwAAAIwIjAAAADAiMAIAAMCIwAgAAAAjAiMAAACMCIwAAAAwIjACAADAiMAIAAAAIwIjAAAAjAiMAAAAMCIwAgAAwIjACAAAACMCIwAAAIwIjAAAADAiMAIAAMCIwAgAAAAjAiMAAACMCIwAAAAwIjACAADAiMAIAAAAIwIjAAAAjAiMAAAAMCIwAgAAwIjACAAAACMCIwAAAIwIjAAAADAiMAIAAMCIwAgAAAAjAiMAAACMCIwAAAAwIjACAADAiMAIAAAAIwIjAAAAjAiMAAAAMCIwAgAAwOhz9+7du+ftBICsXTmr9temvb1Zs7aHFAyG1LjV531UmRhPAEWIwAggL5HvV6l50Nubgwea1PPLl3X0Ub/3SUVhPAEUIwIjgPzEHdlOPPH903M68vAxRRafWa0aeq9bdZ93vZ/ysa6PDKj3VJ+iH6Z7AycmNXqk1v1iZWE8ARQhAiOAwrnZp/pHujSTbPqeG9XcyYDnJS9HkbaH1fxrJ9n2q/WtWZ3ew5Iq4wmgWHDoBUDBxD+IpsKNJAUbtrtay/ErdLxHjam2o4HuVxXLeKcyMZ4AigWBEUDBTI+PuVp1agxkOatlbdFmd/taRFHb3VGZGE8AxYLACKBAZhS9mNx7J0lWSMGH3M8N7Duay+i4I+duRkcFYjwBFA8CI4DCsMc1dsPV3tOgOlfTaHpC0YyOam2xMjoqD+MJoIgQGAEUxkQ0I6SEvhV0tcymLl/I7KgPKXhfZlfFYTwBFBECI4CCmBgbcbVWsd9OMxoOuzfY+dRyrFWVPiHGeAIoJgRGAAUQ0/il3Pbbxc+/oL5b6bb/4KBe3JdtOCpXjCeA4kJgBJA/O6rItXTT98Te7PbbOREdaQsrFY129Gj0TEgVfzcJ4wmgyBAYAeTvg8z9dtnUC3Te71PzzmaFk/Wl/Y/1avLCUdVu8L5ZgRhPAEWGm14A5G2ic7N2v7I4r2Wp5eQpHcgoBJh259o5jQyG09fXbahVa/+Qep+sFgunCYwngGJDYASQp5j6vrFNXa4l1Gz4d4TU9r1udRysk59ZMBfGE0DxITACyI89oP017ekl1D29unrmgGF2yye/5Tc8r3DlOp7xmIaff1yHdErzZ0LepwCKHIERQH5GDqvq6XCqWXv8qiZ/UJ3xSk6ciNobjyi665RGzzTlVRbGmTyrF/5jWsntfQXl/9tW/ei5QOEOlqzReDrn2/X3HVE1vjCq00/mM5pZijuynTu6fnla0xcH9NJgVPaCpINDmj9LYARKDYERQF68++06o7Pq3uF5KQf26/tV0xGVgqc1+05+dQQn/uVB7X55LeKiJP9Rjd7uUcDbn6O1GU9bA4/XqH1ManxpViPP5DOaWTp/WFVPhSW/pbpde7Xxg4HEfdYERqAkcUoaQB489x0rqIZtrmYepi4nFmWt+rq8wqIkBU7c1vz8/Np8ChgW12w8F6YUHZMkS4G6fEczS/v6k+Mzq0tvdCq0yfsCgFJCYASQO+99x/u+rWBBDlxMKPK2JPl0IJRVBcLysFbjORnRiCT5Dmhv3rOVACoRgRFAzuKXhjPqBdYFA4U5fHEjqmhckvYrWO99WL7WajxnLkcTxbwfDxZwNhRAJSEwAsjZ9PiYq2UptCv3wxn2uyfV3tGe+HQOaEaSfDf05vPJvtenvD9Sdgo3nrYiP0+OW0e7jr02I0ny3Xgz1Tcw7f0ZAFgegRFAjqZ04W33fru9ashjuTPufJz6fv1aTJLk21qtjck+//2L38pVIcczrtRwLlzX9VuS5FPtV1OjqS/cn34bAFbCKWkAubnZp/pHuhIzgUoccph7o6UAS6gTOrZ5t87GfWq7MKfeR73Py9Rajef7x7R571nFfW0anev9jJakXcXIOSUNlCRmGAHkxH73XDrcSKoNbM8/3Mi9fzGoLK5QLhtrNZ6p/YuPNaiChhNAgTHDCCArEz31enowuc75iS17ibKG/gesZMhp0M9+P6iWHCq4FLL+YjFbn/HMsv5i3JHtuJfDV2ul22aYYQRKHYERQBZi6mvcpq4r3v7lNKn/z4Nquc/bv7Lh71bp0JBk/fCSZn9SriV11mk8F4Z1+IuHFF6pAPjkcdW3Dii9i3SV7mvVr/7YbVjuJjACpY7AiJI29Yt2vZrLaU9ru0KBBjXsqpO12v+EsYYqdP/iWimK/YsiMAJlgMCIEhZRe1WzBrzdq2QFj+rUS91q+sryC2pYJzdOqn7ncc0opP4/D6Vn1OKOHPnl569oVWZO1av+32b+4gBN3HEkv2kJudAIjECp49ALSlhIvbdnNTub+Fx9MfM/IeuZIV1NPsv4/NeIBl/sVGhr4j17rE+HHqnR/tfdRw7wWbAvjyUOfuxoVCA18xtX+PCDOvJOPnvsKpGt8YuJf9MZBcDvhvXsl49o5K77XQAwIzCipPn8liwr8dHdRO2+RXv3h1SdfJbx+Xqjmp7t1tAfb2v0B7XJtx1FO3br8PklTh5g3aTuj/5WUKmS1VdO6qdjbep4Yv3mw8pD+v5odwHwqd6fKnq4Y/X7IQFUNAIjykRcE5fdM4QhNe5yNZfkV+Cff6T0vKSj8D8eV3Qh4yWso+rqRLDZeH8yHH4Y1qHvRNT2Xq8ChbhTuaJU60sPSdJG+ZLh0B46pObftWn0xDrsZlyIy7Ft2bat2JULit5M9k9HNHwlJtu2ZdtOouQPgKLHHkaUicXDEslm1iVZIjpc1axwqs1hi8+UE1H7zmYNfOSXZUm2XavOC2+pu97vfRNZcM63a+dTA7L9lizZsrd2avQ33Qqsx3B6C5EvqUVD8/2uX9oAFCsCI8pD6rBEQtYlWVJlR9Ja3phX/z5XB9bXQlzOR47i8sm/yS8fM4v5uevI/iQubfDL2sSyPoDcsCSNspA6LCFJ8ulAKIuwKElXpzSW0VGrRxa3NeKzscEnv2XJsgiLBXGfP7F3l7AIIA8ERpSF8bHEYYmE7K+Ui40Ny3Z3fL1VTV9xdwAAAAIjysCExt5xNYNNCmZzAnRhSgOvundY+dX270fTp3MBAIBEYERZuDmuqOuoZe1jDVkcdpFmXm7XyVvpduDEKIddAABYAoERJc8ei2TsX2zctcImxAVHEz27Vd89lWhvqNXRt25r9MgKPwcAQIXilDRKXqStSs2/Xmx5rpRT4lo524lLH13X2LthvXJ6QBPJjYu1B3v18ok2BTa53l8PC7YmRsZ1x9tfUFvUsD8gi4MjAIA8ERhR4jz1F7OxoVYtP+nRj54NqTabvY5rwH5lt2o6J7zdBRc4OavR57JZoAcAYHkERpQ2T3Fgq7lXp/Zv8bz0qWIXX9FLr08kT0RbCh3/lfp/ENB61C9eUqrW4FqijiEAoDAIjChp9uv7VdOxWFJnhVtabvTpmzu7lNy5qLrjk7qUukt6BU5E7Y1HFN11SqNnmrI6VAMAQLng0AtKWmb9xf0K1ruaXluP6vQP01Fvqvu4wncz3liW/ds+Ddy0Fbv1sfcRAABljxlGlLAc7o8+f1hVT6UvAmx9a16n92S8saTFgzVZXzlYZqqqqrxdwJqYn5/3dgEoAgRGlK4c7o/OXMLO9t7oxWC6wpI3AABliiVplKxc7o+euuxews7SjWiyMPgKS94AAJQpZhhRouIKP7VZh88vtpeov/gXvCV4atXz35M6usTd0fa7J3V8JJZoxKIauBiTfHVqOlinjZL0d9/T6WdWDqjLib/fpT3ffXPN6zB+55fvqudRn/cBAACrwgwjStS0xi+6mtncH+25QlDyScuUnIk76cMt168lgqNva3UiLEry37/4LUeffLrGJXUkKa5PP/H2AQCweswwojRdOa6axpPJuoq57V+UWjQ036+Qq+cvsX8RAABmGFGSYmPDqbCY7f7FuLPyAnD0+c2qerBLqTtYUvsXg2rYnvEqAAAVg8CIEmTrwnD6uEu2Yc7n994A4+GE1feLuPwHDyiQ7EodrMlmyRsAgDJFYEQJiOnsgRrVfC3x2VxVo2OT7ucRHX7wwdTz+p6l72i2WlrVlNEzrZmbya8LjoY7n1dEIb34r4txMV0Y3KqvM9d3BACgjLGHEcXvVp+++XD6Sr+VVP/TpK52LX3lnzPWpd1P9GlmIdlhBdSyr1qx82FN2NVqe+cP6g0u3jDN/sWycuWs2l+b9vZmzdoeUjAYUuNWTp0DqDwERlSeeEzRwQENvD2ssf9NnIbesr1VnSc61fQVVxhIFQb3lOyJO3Lkl5/cUFIi369S86C3NwcPNKnnly/r6KOLv1gAQPkjMALLSJ2q3tGjq9GjqpYS9R+f3qxzT85psJnEWFLijmwnWczo03M68vAxRRafWa0aeq9bdZ93vZ/ysa6PDKj3VJ+iH6Z7AycmNXpk6ZlsACg3BEZgGUveH33luLY1Oer/v14FlqnhiBJws0/1j3SlbgryPTequZPpvatLcxRpe1jNv3aSbb9a35rV6T384gCg/HHoBVhGdXViTnHj/clA8GFYh74TUdt7hMVSF/8g6rpWUgpmc8xefoWO96gx1XY00P2qkvcBAUBZIzACy6htP6VWS5rp2a2arz2oqm2vqPY/39HRrd43UWqmx8dcrTo1BrKcJbS2aLO7fS2iaLogKACULQIjsBx/SKf/NKfbf/qj/vD7/9Hc3Ki66znoUPpmFL3oupjRCin4kPu5gX1Hcxkdd+TczegAgLJEYARMNvjktyxZll8+lqHLgz2usRuu9p4GrXxPUNL0hNyXS0rV2kKBTgAVgMAIoLJMRDNCX+hbQVfLbOryhcyO+hA3AAGoCARGABVlYmzE1VrF/kXNaDjs3rDoU8uxVm4AAlARCIwAKkhM45dy278YP/+C+m6l2/6Dg3pxX7ZhEwBKG4ERQOWwo4pcSzd9T+zNbv+iE9GRtrBSUXNHj0bPhMQRKACVgsAIoHJ8kLl/MZv6i877fWre2axwsl63/7FeTV44qloOQQGoINz0AqBiTHRu1u5XFucJLbWcPKUDGYUV0+5cO6eRwXD6OsANtWrtH1Lvk9ViIRpApSEwAqgQMfV9Y5u6XEvS2fDvCKnte93qOFgnP7OKACoUgRFAZbAHtL+mPb0kvadXV88cMMwW+uS3/IbnRSIe0/Dzj+uQTmn+TMj7FAAKgj2MACqDp/5ibXCvqi1L1rKf7MKic75d22q2qf2363RHYNyRbc8o+tuw+jr2q+avt+nQYExa8L4IAIVDYARQETLrL1pqCla72rmyde7lAcXsmGLJQzFr7uLzqqmp1/6OH+tNu1p/s8n7AgAUHoERQAXw3B+toBq2uZq5WphSdEySLAXq1qmE975+zc/Pa/72rC690akQgRHAOiAwAih/3vuj931bwUIcYJmMaESSfAe0d4f3IQCUDwIjgLIXvzScsX+xLhjIan/iSmYuRxPFvB8PKuB9CABlhMAIoOxNj4+5WpZCu3Ldv2gr8vN2tXckPsdem5Ek+W68meobmPb+DACUPgIjgDI3pQtvu/cv7lVDzsvHcTkfJ78uXNf1W5LkU+1XNyY7/frC/em3AaBcUIcRQHm72af6R7qUmAtMHBqZe6Ml/yXp949p896zivvaNDrX+xktSbuKkR8c0vxZ6jACWBvMMAIoa/a759JhUVJtYHv+YdG9f/GxBq18IzUAlDZmGAGUlYmeej09mFw3/sSWvUR9RP8DVjI0Nuhnvx9Uy6or4tgaeLxG7WNS40uzGnlmmT9gIS7nIycRLHPik3+TX75lT3QzwwhgfRAYAZSRmPoat6nrird/OU3q//OgWu7z9q9gYViHv3hIYVnqjM6qe7k9kXZYh/7hxxr39mdtpUBLYASwPgiMALBaRbF/UQRGAOuGPYwAsErL7V+MO/ksPwNA8SIwAsCq2Bq/mDhGk1EA/G5Yz375iEbuut8FgPJAYASAVUnfH+0uAD7V+1NFD3esfj8kAJQAAiMArEq1vvSQJG2ULxkO7aFDav5dm0ZPrMNuxoW4HNuWbduKXbmg6M1k/3REw1dism1bts3SOIDC4tALAKySc75dO58akO23ZMmWvbVTo7/pVsDvfXMNeAuRL6lFQ/P94ggMgEIhMAJALu46sj+JSxv8sjYVohQ4ABQvAiMAAACM2MMIAAAAIwIjAAAAjAiMAAAAMCIwAgAAwIjACAAAACMCIwAAAIwIjAAAADAiMAIAAMCIwAgAAAAjAiMAAACMCIwAAAAwIjACAADAiMAIAAAAIwIjAAAAjAiMAAAAMCIwAgAAwIjACAAAACMCIwAAAIwIjAAAADAiMAIAAMCIwAgAAAAjAiMAAACMCIwAAAAwIjACAADAiMAIAAAAIwIjAAAAjAiMAAAAMCIwAgAAwIjACAAAACMCIwAAAIwIjAAAADAiMAIAAMCIwAgAAAAjAiMAAACMCIwAAAAwIjACAADAiMAIAAAAIwIjAAAAjAiMAAAAMCIwAgAAwIjACAAAACMCIwAAAIwIjAAAADAiMAIAAMCIwAgAAAAjAiMAAACMCIwAAAAwIjACAADAiMAIAAAAIwIjAAAAjAiMAAAAMCIwAgAAwIjACAAAACMCIwAAAIwIjAAAADAiMAIAAMDo/wHIAD94sIwehQAAAABJRU5ErkJggg==)\n"
      ]
    },
    {
      "cell_type": "code",
      "execution_count": null,
      "metadata": {
        "id": "IGNXqKwD0-gP"
      },
      "outputs": [],
      "source": [
        "print(f\"BP Historical Stock Prices\\n {bp_history}\")\n",
        "print(f\"Shell Historical Stock Prices\\n {bp_history}\")"
      ]
    },
    {
      "cell_type": "code",
      "execution_count": 8,
      "metadata": {
        "id": "FKjXLSJKE_VJ"
      },
      "outputs": [],
      "source": [
        "def daily_returns_list(stock, start_date, end_date):\n",
        "    \"\"\"\n",
        "    Calculate daily returns for a stock between start_date and end_date.\n",
        "\n",
        "    stock: pandas DataFrame with 'Date' and 'Close' columns\n",
        "    start_date, end_date: strings in 'YYYY-MM-DD' format\n",
        "    \"\"\"\n",
        "    # SQL query to get previous day close and current day close\n",
        "    temp = ps.sqldf(f\"\"\"\n",
        "        SELECT\n",
        "            Date(Date) AS Date,\n",
        "            Close AS close_price,\n",
        "            LAG(Close, 1) OVER (ORDER BY Date) AS previous_price\n",
        "        FROM {stock}\n",
        "        WHERE Date BETWEEN '{start_date}' AND '{end_date}'\n",
        "    \"\"\")\n",
        "\n",
        "    # Drop the first row (since it has no previous_price)\n",
        "    temp = temp.dropna(subset=['previous_price'])\n",
        "\n",
        "    # Compute daily returns\n",
        "    temp['daily_return'] = (temp['close_price'] - temp['previous_price']) / temp['previous_price']\n",
        "\n",
        "    # Convert to list\n",
        "    return temp['daily_return'].tolist()\n"
      ]
    },
    {
      "cell_type": "code",
      "execution_count": 9,
      "metadata": {
        "id": "XZxZorLGE0uC"
      },
      "outputs": [],
      "source": [
        "def daily_return_gov_bonds():\n",
        "\n",
        "  temp = (ps.sqldf(f\"\"\"\n",
        "\n",
        "  SELECT\n",
        "    Date(Date) as 'date',\n",
        "    Yield as yield,\n",
        "    LAG(Yield, 1) OVER (ORDER BY Date) as previous_yield\n",
        "  FROM\n",
        "    government_bond\n",
        "  WHERE Date > '2025-06-01'\n",
        "\n",
        "  \"\"\"))\n",
        "\n",
        "  r_t = 0\n",
        "  p_t = temp.loc[1, 'yield']\n",
        "\n",
        "  p_t_prev = temp.loc[1, 'previous_yield']\n",
        "\n",
        "\n",
        "  r_t = (p_t - p_t_prev) / p_t_prev\n",
        "\n",
        "  return r_t"
      ]
    },
    {
      "cell_type": "code",
      "execution_count": 10,
      "metadata": {
        "id": "AlrzY6RiZ3Y4"
      },
      "outputs": [],
      "source": [
        "def portfolio_average_daily_return(stock_dfs, weights, start_date, end_date):\n",
        "    # Get daily returns for each stock\n",
        "    daily_returns_lists = [daily_returns_list(stock, start_date, end_date) for stock in stock_dfs]\n",
        "\n",
        "    # Combine weighted daily returns\n",
        "    portfolio_daily_returns = [\n",
        "        sum(weight * ret for weight, ret in zip(weights, daily_returns))\n",
        "        for daily_returns in zip(*daily_returns_lists)\n",
        "    ]\n",
        "\n",
        "    # Return average daily return\n",
        "    return sum(portfolio_daily_returns) / len(portfolio_daily_returns)"
      ]
    },
    {
      "cell_type": "code",
      "execution_count": 11,
      "metadata": {
        "id": "1oAoiVPRYXzb"
      },
      "outputs": [],
      "source": [
        "def portfolio_volatility(stock_dfs, weights, start_date, end_date):\n",
        "    \"\"\"\n",
        "    Calculate annualised portfolio volatility.\n",
        "\n",
        "    stock_dfs: list of pandas DataFrames, each with 'Date' and 'Close' columns\n",
        "    weights: list of weights corresponding to each stock\n",
        "    start_date, end_date: strings 'YYYY-MM-DD'\n",
        "    \"\"\"\n",
        "    all_daily_returns = []\n",
        "\n",
        "    for stock in stock_dfs:\n",
        "        daily_returns = daily_returns_list(stock, start_date, end_date)  # uses your daily_returns_list function\n",
        "        all_daily_returns.append(daily_returns)\n",
        "\n",
        "    # Combine daily returns using weights\n",
        "    portfolio_daily_returns = [\n",
        "        sum(ret * w for ret, w in zip(day_returns, weights))\n",
        "        for day_returns in zip(*all_daily_returns)\n",
        "    ]\n",
        "\n",
        "    # Compute annualised volatility\n",
        "    volatility = statistics.stdev(portfolio_daily_returns) * math.sqrt(252)\n",
        "\n",
        "    return volatility\n"
      ]
    },
    {
      "cell_type": "code",
      "execution_count": 12,
      "metadata": {
        "id": "GueBKAc1bG8N"
      },
      "outputs": [],
      "source": [
        "def portfolio_cumulative_return(stock_dfs, weights, start_date, end_date):\n",
        "    daily_returns_lists = [daily_returns_list(stock, start_date, end_date) for stock in stock_dfs]\n",
        "    portfolio_daily_returns = [\n",
        "        sum(ret * w for ret, w in zip(day_returns, weights))\n",
        "        for day_returns in zip(*daily_returns_lists)\n",
        "    ]\n",
        "    cum_return = 1\n",
        "    for r in portfolio_daily_returns:\n",
        "        cum_return *= (1 + r)\n",
        "    return cum_return - 1"
      ]
    },
    {
      "cell_type": "code",
      "execution_count": 13,
      "metadata": {
        "id": "CjOaa0J3bI6U"
      },
      "outputs": [],
      "source": [
        "def portfolio_sharpe_ratio(stock_dfs, weights, start_date, end_date, risk_free_rate=0.0):\n",
        "    avg_daily = portfolio_average_daily_return(stock_dfs, weights, start_date, end_date)\n",
        "    vol = portfolio_volatility(stock_dfs, weights, start_date, end_date)\n",
        "    # Annualised Sharpe ratio\n",
        "    return (avg_daily * 252 - risk_free_rate) / vol"
      ]
    },
    {
      "cell_type": "code",
      "execution_count": 14,
      "metadata": {
        "id": "Go7cpoQEbLDH"
      },
      "outputs": [],
      "source": [
        "def portfolio_max_drawdown(stock_dfs, weights, start_date, end_date):\n",
        "    daily_returns_lists = [daily_returns_list(stock, start_date, end_date) for stock in stock_dfs]\n",
        "    portfolio_daily_returns = [\n",
        "        sum(ret * w for ret, w in zip(day_returns, weights))\n",
        "        for day_returns in zip(*daily_returns_lists)\n",
        "    ]\n",
        "    cum_returns = []\n",
        "    cum = 1\n",
        "    for r in portfolio_daily_returns:\n",
        "        cum *= (1 + r)\n",
        "        cum_returns.append(cum)\n",
        "    peak = cum_returns[0]\n",
        "    max_dd = 0\n",
        "    for x in cum_returns:\n",
        "        if x > peak:\n",
        "            peak = x\n",
        "        drawdown = (peak - x) / peak\n",
        "        if drawdown > max_dd:\n",
        "            max_dd = drawdown\n",
        "    return max_dd"
      ]
    },
    {
      "cell_type": "code",
      "execution_count": 15,
      "metadata": {
        "id": "xcyFIPt8bQIK"
      },
      "outputs": [],
      "source": [
        "def benchmark_average_daily_return(stock_df, start_date, end_date):\n",
        "    \"\"\"\n",
        "    Calculate the average daily return of a single stock/index using SQL on a Pandas DataFrame.\n",
        "\n",
        "    stock_df: pandas DataFrame with date as the index and 'Close' column\n",
        "    start_date, end_date: strings in 'YYYY-MM-DD' format\n",
        "    \"\"\"\n",
        "    # Ensure the index is a column for SQL queries\n",
        "    stock_df = stock_df.reset_index().rename(columns={'index': 'Date'})\n",
        "    stock_df['Date'] = pd.to_datetime(stock_df['Date'])\n",
        "\n",
        "    # Define SQL query\n",
        "    query = f\"\"\"\n",
        "    WITH daily_returns AS (\n",
        "        SELECT\n",
        "            Date,\n",
        "            Close,\n",
        "            LAG(Close) OVER (ORDER BY Date) AS previous_close\n",
        "        FROM stock_df\n",
        "        WHERE Date BETWEEN '{start_date}' AND '{end_date}'\n",
        "    )\n",
        "    SELECT AVG((Close - previous_close) / previous_close) AS avg_daily_return\n",
        "    FROM daily_returns\n",
        "    WHERE previous_close IS NOT NULL\n",
        "    \"\"\"\n",
        "\n",
        "    # Run SQL query on the DataFrame\n",
        "    result = ps.sqldf(query, locals())\n",
        "\n",
        "    return result['avg_daily_return'][0]"
      ]
    },
    {
      "cell_type": "code",
      "execution_count": 16,
      "metadata": {
        "id": "jcyPJYOw7lZm"
      },
      "outputs": [],
      "source": [
        "def fast_portfolio_timeseries(stock_dfs, weights, start_date, end_date, benchmark_df):\n",
        "    import pandas as pd\n",
        "    import numpy as np\n",
        "    from functools import reduce\n",
        "\n",
        "    # Prepare all stock DataFrames: keep 'Close', rename columns\n",
        "    processed_dfs = []\n",
        "    for i, df in enumerate(stock_dfs):\n",
        "        temp = df[['Close']].copy()\n",
        "        temp.columns = [f'Stock{i}']\n",
        "        # Ensure datetime index is UTC\n",
        "        if temp.index.tz is not None:\n",
        "            temp = temp.tz_convert('UTC')\n",
        "        else:\n",
        "            temp = temp.tz_localize('UTC')\n",
        "        processed_dfs.append(temp)\n",
        "\n",
        "    # Merge all stock DataFrames on datetime index\n",
        "    prices = reduce(lambda left, right: pd.merge(left, right, left_index=True, right_index=True, how='outer'), processed_dfs)\n",
        "\n",
        "    # Filter by date range and fill missing values\n",
        "    prices = prices[(prices.index >= start_date) & (prices.index <= end_date)]\n",
        "    prices = prices.ffill().bfill()  # forward/backward-fill missing data\n",
        "\n",
        "    # Compute daily returns and portfolio returns\n",
        "    returns = prices.pct_change().fillna(0)\n",
        "    port_returns = returns.dot(weights)\n",
        "\n",
        "    # Portfolio metrics\n",
        "    cum_return = (1 + port_returns).cumprod() - 1\n",
        "    vol = port_returns.expanding().std()\n",
        "    avg_return = port_returns.expanding().mean()\n",
        "    sharpe = avg_return / vol\n",
        "    running_max = cum_return.cummax()\n",
        "    drawdown = (cum_return - running_max) / running_max\n",
        "    max_dd = drawdown.cummin()\n",
        "\n",
        "    # Align benchmark\n",
        "    benchmark_aligned = benchmark_df[['Close']].copy()\n",
        "    if benchmark_aligned.index.tz is not None:\n",
        "        benchmark_aligned = benchmark_aligned.tz_convert('UTC')\n",
        "    else:\n",
        "        benchmark_aligned = benchmark_aligned.tz_localize('UTC')\n",
        "    benchmark_aligned = benchmark_aligned[(benchmark_aligned.index >= start_date) & (benchmark_aligned.index <= end_date)]\n",
        "    benchmark_aligned = benchmark_aligned.reindex(prices.index).ffill().bfill()\n",
        "    benchmark_returns = benchmark_aligned.pct_change().fillna(0)\n",
        "\n",
        "    # Compile metrics DataFrame\n",
        "    metrics_df = pd.DataFrame({\n",
        "        'AvgDailyReturn': avg_return,\n",
        "        'Volatility': vol,\n",
        "        'CumulativeReturn': cum_return,\n",
        "        'Sharpe': sharpe,\n",
        "        'MaxDrawdown': max_dd,\n",
        "        'BenchmarkDailyReturn': benchmark_returns['Close']\n",
        "    }, index=prices.index)\n",
        "\n",
        "    return metrics_df\n"
      ]
    },
    {
      "cell_type": "markdown",
      "metadata": {
        "id": "N4vFija-GUdC"
      },
      "source": [
        "### Portfolio Weights Simulation\n",
        "\n",
        "- UK Financial Markets (HSBC, Barclays) - 30%\n",
        "- UK Energy Markets (BP, Shell) - 20%\n",
        "- FTSE 100 - 10%\n",
        "- S&P 500 - 40%"
      ]
    },
    {
      "cell_type": "code",
      "execution_count": 17,
      "metadata": {
        "colab": {
          "base_uri": "https://localhost:8080/"
        },
        "id": "H546BUwpElBp",
        "outputId": "7014f8fe-57f1-4d46-ceb2-0adebed575c5"
      },
      "outputs": [
        {
          "name": "stdout",
          "output_type": "stream",
          "text": [
            "Average daily return: 0.13%\n",
            "Volatility: 16.63%\n",
            "Cumulative return: 21.19%\n",
            "Sharpe ratio: 1.96\n",
            "Maximum drawdown: 14.96%\n",
            "S&P 500 daily return: 0.07%\n"
          ]
        }
      ],
      "source": [
        "stock_dfs = ['bp_history', 'shell_history', 'barclays_history', 'hsbc_history', 'ftse_100_history', 's_and_p_500_history']\n",
        "benchmark = 's_and_d_500_history'\n",
        "weights = [0.10, 0.10, 0.15, 0.15, 0.10, 0.40]\n",
        "\n",
        "print(f\"Average daily return: {portfolio_average_daily_return(stock_dfs, weights, '2025-01-01', '2025-08-19')*100:.2f}%\")\n",
        "print(f\"Volatility: {portfolio_volatility(stock_dfs, weights, '2025-01-01', '2025-08-19')*100:.2f}%\")\n",
        "print(f\"Cumulative return: {portfolio_cumulative_return(stock_dfs, weights, '2025-01-01', '2025-08-19')*100:.2f}%\")\n",
        "print(f\"Sharpe ratio: {portfolio_sharpe_ratio(stock_dfs, weights, '2025-01-01', '2025-08-19'):.2f}\")\n",
        "print(f\"Maximum drawdown: {portfolio_max_drawdown(stock_dfs, weights, '2025-01-01', '2025-08-19')*100:.2f}%\")\n",
        "print(f\"S&P 500 daily return: {benchmark_average_daily_return(s_and_p_500_history, '2025-01-01', '2025-08-19')*100:.2f}%\")"
      ]
    },
    {
      "cell_type": "code",
      "execution_count": 18,
      "metadata": {
        "colab": {
          "base_uri": "https://localhost:8080/"
        },
        "id": "4C9WrDoFvYbX",
        "outputId": "d34f9363-49ea-49c2-fd9e-369ba177c5fa"
      },
      "outputs": [
        {
          "name": "stdout",
          "output_type": "stream",
          "text": [
            "                           AvgDailyReturn  Volatility  CumulativeReturn  \\\n",
            "Date                                                                      \n",
            "2020-01-02 00:00:00+00:00        0.000000         NaN          0.000000   \n",
            "2020-01-02 05:00:00+00:00        0.000000    0.000000          0.000000   \n",
            "2020-01-03 00:00:00+00:00       -0.000434    0.000751         -0.001301   \n",
            "2020-01-03 05:00:00+00:00       -0.000963    0.001224         -0.003850   \n",
            "2020-01-06 00:00:00+00:00       -0.001274    0.001267         -0.006356   \n",
            "...                                   ...         ...               ...   \n",
            "2025-08-17 23:00:00+00:00        0.000287    0.008085          1.053953   \n",
            "2025-08-18 04:00:00+00:00        0.000286    0.008084          1.051512   \n",
            "2025-08-18 23:00:00+00:00        0.000286    0.008083          1.052964   \n",
            "2025-08-19 04:00:00+00:00        0.000285    0.008081          1.046161   \n",
            "2025-08-19 23:00:00+00:00        0.000286    0.008080          1.048858   \n",
            "\n",
            "                             Sharpe  MaxDrawdown  BenchmarkDailyReturn  \n",
            "Date                                                                    \n",
            "2020-01-02 00:00:00+00:00       NaN          NaN              0.000000  \n",
            "2020-01-02 05:00:00+00:00       NaN          NaN              0.000000  \n",
            "2020-01-03 00:00:00+00:00 -0.577350         -inf              0.000000  \n",
            "2020-01-03 05:00:00+00:00 -0.786990         -inf             -0.007060  \n",
            "2020-01-06 00:00:00+00:00 -1.005197         -inf              0.000000  \n",
            "...                             ...          ...                   ...  \n",
            "2025-08-17 23:00:00+00:00  0.035473         -inf              0.000000  \n",
            "2025-08-18 04:00:00+00:00  0.035415         -inf             -0.000101  \n",
            "2025-08-18 23:00:00+00:00  0.035440         -inf              0.000000  \n",
            "2025-08-19 04:00:00+00:00  0.035288         -inf             -0.005858  \n",
            "2025-08-19 23:00:00+00:00  0.035339         -inf              0.000000  \n",
            "\n",
            "[2838 rows x 6 columns]\n"
          ]
        }
      ],
      "source": [
        "stock_df = [bp_history, shell_history, barclays_history, hsbc_history, ftse_100_history, s_and_p_500_history]\n",
        "# Example usage: make sure start <= end\n",
        "portfolio_ts = fast_portfolio_timeseries(stock_df, weights, '2020-01-01', '2025-08-20', s_and_p_500_history)\n",
        "print(portfolio_ts)\n"
      ]
    },
    {
      "cell_type": "code",
      "execution_count": 22,
      "metadata": {
        "colab": {
          "base_uri": "https://localhost:8080/"
        },
        "id": "0MeBFfK09dUn",
        "outputId": "7b6e8be6-b7a0-4873-845a-0fe72bc68da4"
      },
      "outputs": [
        {
          "name": "stdout",
          "output_type": "stream",
          "text": [
            "                           AvgDailyReturn  Volatility  CumulativeReturn  \\\n",
            "Date                                                                      \n",
            "2020-01-03 05:00:00+00:00       -0.000963    0.001224         -0.003850   \n",
            "2020-01-06 05:00:00+00:00       -0.000264    0.002720         -0.001604   \n",
            "2020-01-07 05:00:00+00:00       -0.000504    0.002837         -0.004056   \n",
            "2020-01-08 05:00:00+00:00       -0.000601    0.002510         -0.006023   \n",
            "2020-01-09 05:00:00+00:00       -0.000089    0.002644         -0.001106   \n",
            "...                                   ...         ...               ...   \n",
            "2025-08-13 04:00:00+00:00        0.000288    0.008092          1.058392   \n",
            "2025-08-14 04:00:00+00:00        0.000289    0.008089          1.065543   \n",
            "2025-08-15 04:00:00+00:00        0.000287    0.008087          1.053489   \n",
            "2025-08-18 04:00:00+00:00        0.000286    0.008084          1.051512   \n",
            "2025-08-19 04:00:00+00:00        0.000285    0.008081          1.046161   \n",
            "\n",
            "                             Sharpe  BenchmarkDailyReturn  \n",
            "Date                                                       \n",
            "2020-01-03 05:00:00+00:00 -0.786990             -0.007060  \n",
            "2020-01-06 05:00:00+00:00 -0.097225              0.003533  \n",
            "2020-01-07 05:00:00+00:00 -0.177804             -0.002803  \n",
            "2020-01-08 05:00:00+00:00 -0.239442              0.004902  \n",
            "2020-01-09 05:00:00+00:00 -0.033678              0.006655  \n",
            "...                             ...                   ...  \n",
            "2025-08-13 04:00:00+00:00  0.035601              0.003230  \n",
            "2025-08-14 04:00:00+00:00  0.035740              0.000303  \n",
            "2025-08-15 04:00:00+00:00  0.035470             -0.002897  \n",
            "2025-08-18 04:00:00+00:00  0.035415             -0.000101  \n",
            "2025-08-19 04:00:00+00:00  0.035288             -0.005858  \n",
            "\n",
            "[1414 rows x 5 columns]\n"
          ]
        }
      ],
      "source": [
        "# Drop rows where BenchmarkDailyReturn is exactly zero\n",
        "# metrics_clean = portfolio_ts[portfolio_ts['BenchmarkDailyReturn'] != 0]\n",
        "\n",
        "# print(portfolio_ts)\n",
        "\n",
        "# Save to CSV\n",
        "# portfolio_ts.to_csv('portfolio_metrics.csv', index=True)\n",
        "\n",
        "portfolio_ts_cleaned = portfolio_ts[portfolio_ts['BenchmarkDailyReturn'] != 0]\n",
        "portfolio_ts_cleaned = portfolio_ts_cleaned.drop('MaxDrawdown', axis=1)\n",
        "\n",
        "print(portfolio_ts_cleaned)\n",
        "\n",
        "portfolio_ts_cleaned.to_csv('output-data/portfolio_metrics_cleaned.csv')\n",
        "\n"
      ]
    },
    {
      "cell_type": "code",
      "execution_count": null,
      "metadata": {
        "id": "wAosF2MVdSfn"
      },
      "outputs": [],
      "source": [
        "stock_dataframes = [shell_history, barclays_history, hsbc_history, ftse_100_history, s_and_p_500_history]\n",
        "stock_names = ['Shell', 'Barclays', 'HSBC', 'FTSE_100', 'S_and_P_500']\n",
        "\n",
        "for df, name in zip(stock_dataframes, stock_names):\n",
        "    # Drop unwanted columns\n",
        "    cleaned = df.drop(['Open', 'High', 'Low', 'Volume', 'Dividends', 'Stock Splits'], axis=1, errors='ignore')\n",
        "\n",
        "    # Ensure index is datetime\n",
        "    cleaned.index = pd.to_datetime(cleaned.index)\n",
        "\n",
        "    # Filter rows after 2020-01-01\n",
        "    cleaned = cleaned[cleaned.index > '2020-01-01']\n",
        "\n",
        "    # Save to CSV\n",
        "    cleaned.to_csv(f'output-data/{name}_cleaned.csv')\n",
        "\n",
        "government_bond.index = pd.to_datetime(government_bond.index)\n",
        "government_bond = government_bond[government_bond.index > '2020-01-01']\n",
        "government_bond.to_csv('output-data/cleaned_government_bond.csv')\n",
        "\n",
        "uk_unemployment.index = pd.to_datetime(uk_unemployment.index)\n",
        "uk_unemployment = uk_unemployment[uk_unemployment.index > '2020-01-01']\n",
        "uk_unemployment.to_csv('output-data/uk_unemployment_cleaned.csv')\n",
        "\n",
        "uk_cpi.index = pd.to_datetime(uk_cpi.index)\n",
        "uk_cpi = uk_cpi[uk_cpi.index > '2020-01-01']\n",
        "uk_cpi.index.name = 'Date'\n",
        "uk_cpi.to_csv('output-data/uk_cpi_cleaned.csv')\n",
        "\n",
        "gdp_data['Year'] = pd.to_datetime(gdp_data['Year'], format='%Y')\n",
        "gdp_data = gdp_data[gdp_data['Year'] > '2018-01-01']\n",
        "gdp_data.to_csv('output-data/uk_gdp_cleaned_usd.csv', index = False)\n",
        "\n",
        "\n",
        "oil_data.index = pd.to_datetime(oil_data.index)\n",
        "oil_data.index.name = 'Date'\n",
        "oil_data = oil_data[oil_data.index > '2020-01-01']\n",
        "oil_data.to_csv('output-data/crude_oil_data.csv')\n"
      ]
    }
  ],
  "metadata": {
    "colab": {
      "provenance": []
    },
    "kernelspec": {
      "display_name": "venv",
      "language": "python",
      "name": "python3"
    },
    "language_info": {
      "codemirror_mode": {
        "name": "ipython",
        "version": 3
      },
      "file_extension": ".py",
      "mimetype": "text/x-python",
      "name": "python",
      "nbconvert_exporter": "python",
      "pygments_lexer": "ipython3",
      "version": "3.10.0"
    }
  },
  "nbformat": 4,
  "nbformat_minor": 0
}
